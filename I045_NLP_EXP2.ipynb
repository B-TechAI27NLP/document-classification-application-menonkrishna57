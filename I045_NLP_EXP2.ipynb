{
  "nbformat": 4,
  "nbformat_minor": 0,
  "metadata": {
    "colab": {
      "provenance": []
    },
    "kernelspec": {
      "name": "python3",
      "display_name": "Python 3"
    },
    "language_info": {
      "name": "python"
    }
  },
  "cells": [
    {
      "cell_type": "code",
      "execution_count": 19,
      "metadata": {
        "id": "SQ5D0DHRBVws"
      },
      "outputs": [],
      "source": [
        "# create the vocabulary\n",
        "vocab = set()\n",
        "\n",
        "# create the bag-of-words model\n",
        "bow_model = []\n",
        "\n",
        "for text in mytokens:\n",
        "    # create a dictionary to store the word counts\n",
        "    word_counts = {}\n",
        "\n",
        "    # tokenize the text\n",
        "    tokens = nltk.word_tokenize(text)\n",
        "\n",
        "    # update the vocabulary\n",
        "    vocab.update(tokens)\n",
        "\n",
        "    # count the occurrences of each word\n",
        "    for word in tokens:\n",
        "        if word in word_counts:\n",
        "            word_counts[word] += 1\n",
        "        else:\n",
        "            word_counts[word] = 1\n",
        "\n",
        "    # add the word counts to the bag-of-words model\n",
        "    bow_model.append(word_counts)"
      ]
    },
    {
      "cell_type": "code",
      "source": [
        "import nltk\n",
        "import pandas as pd\n",
        "nltk.download('punkt_tab')\n",
        "nltk.download('stopwords')"
      ],
      "metadata": {
        "colab": {
          "base_uri": "https://localhost:8080/"
        },
        "id": "-3gR_AAiCRfg",
        "outputId": "14a94225-252d-4407-ca31-1314f4c2d769"
      },
      "execution_count": 26,
      "outputs": [
        {
          "output_type": "stream",
          "name": "stderr",
          "text": [
            "[nltk_data] Downloading package punkt_tab to /root/nltk_data...\n",
            "[nltk_data]   Package punkt_tab is already up-to-date!\n",
            "[nltk_data] Downloading package stopwords to /root/nltk_data...\n",
            "[nltk_data]   Package stopwords is already up-to-date!\n"
          ]
        },
        {
          "output_type": "execute_result",
          "data": {
            "text/plain": [
              "True"
            ]
          },
          "metadata": {},
          "execution_count": 26
        }
      ]
    },
    {
      "cell_type": "code",
      "source": [
        "text_data=\"\"\"The new Colab AI experience is now available to all users. This version has an agentic collaborator run with Gemini 2.5 Flash and enhances productivity with features like iterative querying, a next-gen data science agent, code transformation, and more to significantly improve coding workflows for developers.\"\"\"\n",
        "mysent=nltk.sent_tokenize(text_data)"
      ],
      "metadata": {
        "id": "6U5lV3L8CmQg"
      },
      "execution_count": 22,
      "outputs": []
    },
    {
      "cell_type": "code",
      "source": [
        "train_data = [\n",
        "    ('Finance describes the flow of money and how people, companies, and governments make...raising capital and issuing stock...', 'finance'),\n",
        "    (\"Primary health care enables health systems...health promotion to disease prevention...\", 'healthcare'),\n",
        "    (\"For entrepreneurs, students, creators...the phenomenal performance of M4 comes to Mac...\", 'tech')\n",
        "]\n"
      ],
      "metadata": {
        "id": "9SEF9MOoEnPK"
      },
      "execution_count": 28,
      "outputs": []
    },
    {
      "cell_type": "code",
      "source": [
        "def word_features(text):\n",
        "    words = nltk.word_tokenize(text.lower())\n",
        "    return {word: True for word in words if word.isalpha()}\n",
        "\n",
        "featuresets = [ (word_features(text), label) for (text, label) in train_data ]\n"
      ],
      "metadata": {
        "id": "t_9rObNIBjoq"
      },
      "execution_count": 29,
      "outputs": []
    },
    {
      "cell_type": "code",
      "source": [
        "print(featuresets)"
      ],
      "metadata": {
        "colab": {
          "base_uri": "https://localhost:8080/"
        },
        "id": "Eu9UH1leCp63",
        "outputId": "e49841f2-8c49-43c2-c9b1-5e897447feb5"
      },
      "execution_count": 30,
      "outputs": [
        {
          "output_type": "stream",
          "name": "stdout",
          "text": [
            "[({'finance': True, 'describes': True, 'the': True, 'flow': True, 'of': True, 'money': True, 'and': True, 'how': True, 'people': True, 'companies': True, 'governments': True, 'make': True, 'raising': True, 'capital': True, 'issuing': True, 'stock': True}, 'finance'), ({'primary': True, 'health': True, 'care': True, 'enables': True, 'systems': True, 'promotion': True, 'to': True, 'disease': True, 'prevention': True}, 'healthcare'), ({'for': True, 'entrepreneurs': True, 'students': True, 'creators': True, 'the': True, 'phenomenal': True, 'performance': True, 'of': True, 'comes': True, 'to': True, 'mac': True}, 'tech')]\n"
          ]
        }
      ]
    },
    {
      "cell_type": "code",
      "source": [
        "from nltk.classify import NaiveBayesClassifier\n",
        "\n",
        "classifier = NaiveBayesClassifier.train(featuresets)"
      ],
      "metadata": {
        "id": "0yfyBsffD2f4"
      },
      "execution_count": 32,
      "outputs": []
    },
    {
      "cell_type": "code",
      "source": [
        "finance = \"\"\"Finance describes the flow of money and how people, companies, and governments make, save, invest, borrow, and spend it. Personal finance...\"\"\"\n",
        "healthcare = \"\"\"Primary health care enables health systems to support a person’s health needs – from health promotion...\"\"\"\n",
        "tech = \"\"\"For entrepreneurs, students, creators, and more, the phenomenal performance of M4 comes to Mac for the first time...\"\"\"\n",
        "\n",
        "for text in [finance, healthcare, tech]:\n",
        "    label = classifier.classify(word_features(text))\n",
        "    print(f\"Predicted: {label}\\nText: {text[:60]}\\n\")\n"
      ],
      "metadata": {
        "colab": {
          "base_uri": "https://localhost:8080/"
        },
        "id": "evcVmPBuLKkM",
        "outputId": "a2cd375a-e4c8-4f56-8b00-6c1a986d0c42"
      },
      "execution_count": 34,
      "outputs": [
        {
          "output_type": "stream",
          "name": "stdout",
          "text": [
            "Predicted: finance\n",
            "Text: Finance describes the flow of money and how people, companie\n",
            "\n",
            "Predicted: healthcare\n",
            "Text: Primary health care enables health systems to support a pers\n",
            "\n",
            "Predicted: tech\n",
            "Text: For entrepreneurs, students, creators, and more, the phenome\n",
            "\n"
          ]
        }
      ]
    },
    {
      "cell_type": "code",
      "source": [],
      "metadata": {
        "id": "H8ly0cKeMDhJ"
      },
      "execution_count": null,
      "outputs": []
    }
  ]
}